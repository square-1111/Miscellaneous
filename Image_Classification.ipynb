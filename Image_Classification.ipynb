{
  "nbformat": 4,
  "nbformat_minor": 0,
  "metadata": {
    "colab": {
      "name": "Image Classification.ipynb",
      "version": "0.3.2",
      "provenance": [],
      "collapsed_sections": [],
      "include_colab_link": true
    },
    "kernelspec": {
      "name": "python3",
      "display_name": "Python 3"
    },
    "accelerator": "GPU"
  },
  "cells": [
    {
      "cell_type": "markdown",
      "metadata": {
        "id": "view-in-github",
        "colab_type": "text"
      },
      "source": [
        "<a href=\"https://colab.research.google.com/github/square-1111/Miscellaneous/blob/master/Image_Classification.ipynb\" target=\"_parent\"><img src=\"https://colab.research.google.com/assets/colab-badge.svg\" alt=\"Open In Colab\"/></a>"
      ]
    },
    {
      "metadata": {
        "id": "u8SkP_f0j-d-",
        "colab_type": "text"
      },
      "cell_type": "markdown",
      "source": [
        "# Getting started with PyTorch"
      ]
    },
    {
      "metadata": {
        "id": "FVu4iM7-kR6n",
        "colab_type": "text"
      },
      "cell_type": "markdown",
      "source": [
        "## Image Classification on CIFAR10"
      ]
    },
    {
      "metadata": {
        "id": "xR9fb8dQq4xi",
        "colab_type": "text"
      },
      "cell_type": "markdown",
      "source": [
        "### GPU configuration"
      ]
    },
    {
      "metadata": {
        "id": "L6yF5qKmq8GU",
        "colab_type": "code",
        "outputId": "bd025adf-00c6-4f47-fd0e-3c61d823b87a",
        "colab": {
          "base_uri": "https://localhost:8080/",
          "height": 312
        }
      },
      "cell_type": "code",
      "source": [
        "!nvidia-smi"
      ],
      "execution_count": 0,
      "outputs": [
        {
          "output_type": "stream",
          "text": [
            "Sun Jan  6 09:43:12 2019       \n",
            "+-----------------------------------------------------------------------------+\n",
            "| NVIDIA-SMI 396.44                 Driver Version: 396.44                    |\n",
            "|-------------------------------+----------------------+----------------------+\n",
            "| GPU  Name        Persistence-M| Bus-Id        Disp.A | Volatile Uncorr. ECC |\n",
            "| Fan  Temp  Perf  Pwr:Usage/Cap|         Memory-Usage | GPU-Util  Compute M. |\n",
            "|===============================+======================+======================|\n",
            "|   0  Tesla K80           Off  | 00000000:00:04.0 Off |                    0 |\n",
            "| N/A   33C    P8    31W / 149W |      0MiB / 11441MiB |      0%      Default |\n",
            "+-------------------------------+----------------------+----------------------+\n",
            "                                                                               \n",
            "+-----------------------------------------------------------------------------+\n",
            "| Processes:                                                       GPU Memory |\n",
            "|  GPU       PID   Type   Process name                             Usage      |\n",
            "|=============================================================================|\n",
            "|  No running processes found                                                 |\n",
            "+-----------------------------------------------------------------------------+\n"
          ],
          "name": "stdout"
        }
      ]
    },
    {
      "metadata": {
        "id": "7O1CENjZk1au",
        "colab_type": "text"
      },
      "cell_type": "markdown",
      "source": [
        "### Setting up Packages \n",
        "$pytorch == 0.4.1$  S\n",
        "$cuda== 9.2$"
      ]
    },
    {
      "metadata": {
        "id": "mwr759nnrWE8",
        "colab_type": "code",
        "outputId": "05167afc-ff93-4628-8a09-d399551fa01b",
        "colab": {
          "base_uri": "https://localhost:8080/",
          "height": 315
        }
      },
      "cell_type": "code",
      "source": [
        "!wget https://developer.nvidia.com/compute/cuda/9.2/Prod2/local_installers/cuda-repo-ubuntu1604-9-2-local_9.2.148-1_amd64 "
      ],
      "execution_count": 0,
      "outputs": [
        {
          "output_type": "stream",
          "text": [
            "--2019-01-06 09:43:26--  https://developer.nvidia.com/compute/cuda/9.2/Prod2/local_installers/cuda-repo-ubuntu1604-9-2-local_9.2.148-1_amd64\n",
            "Resolving developer.nvidia.com (developer.nvidia.com)... 192.229.189.146\n",
            "Connecting to developer.nvidia.com (developer.nvidia.com)|192.229.189.146|:443... connected.\n",
            "HTTP request sent, awaiting response... 302 Found\n",
            "Location: https://developer.download.nvidia.com/compute/cuda/9.2/secure/Prod2/local_installers/cuda-repo-ubuntu1604-9-2-local_9.2.148-1_amd64.deb?Q1b-QMzPo3r_USQpSxMttIqKOYs7QSd8FW4xKfkHR7lwTZ7OkOvd_Bt3Io6Hv0QJdT6tA_GvoRYruwwK3bp1j4uNdGTYSfl85bqqL_Q9L0DxmVoeMw0K9-2I-KFjwIw9-yGi4E_B32TYH6lLd4IYail-w3L_BQY9BMRtvJmA7j4Pp8K1PUuh4u0IBbAmlqefaDwVZ9iatx1zLTlCgD0KXQ [following]\n",
            "--2019-01-06 09:43:27--  https://developer.download.nvidia.com/compute/cuda/9.2/secure/Prod2/local_installers/cuda-repo-ubuntu1604-9-2-local_9.2.148-1_amd64.deb?Q1b-QMzPo3r_USQpSxMttIqKOYs7QSd8FW4xKfkHR7lwTZ7OkOvd_Bt3Io6Hv0QJdT6tA_GvoRYruwwK3bp1j4uNdGTYSfl85bqqL_Q9L0DxmVoeMw0K9-2I-KFjwIw9-yGi4E_B32TYH6lLd4IYail-w3L_BQY9BMRtvJmA7j4Pp8K1PUuh4u0IBbAmlqefaDwVZ9iatx1zLTlCgD0KXQ\n",
            "Resolving developer.download.nvidia.com (developer.download.nvidia.com)... 192.229.232.112, 2606:2800:247:2063:46e:21d:825:102e\n",
            "Connecting to developer.download.nvidia.com (developer.download.nvidia.com)|192.229.232.112|:443... connected.\n",
            "HTTP request sent, awaiting response... 200 OK\n",
            "Length: 1267151038 (1.2G) [application/x-deb]\n",
            "Saving to: ‘cuda-repo-ubuntu1604-9-2-local_9.2.148-1_amd64’\n",
            "\n",
            "cuda-repo-ubuntu160 100%[===================>]   1.18G   121MB/s    in 9.0s    \n",
            "\n",
            "2019-01-06 09:43:37 (134 MB/s) - ‘cuda-repo-ubuntu1604-9-2-local_9.2.148-1_amd64’ saved [1267151038/1267151038]\n",
            "\n"
          ],
          "name": "stdout"
        }
      ]
    },
    {
      "metadata": {
        "id": "dZEO0p__rvHr",
        "colab_type": "code",
        "outputId": "6b775b15-0ef6-455f-b3c1-79a5ddab9482",
        "colab": {
          "base_uri": "https://localhost:8080/",
          "height": 104
        }
      },
      "cell_type": "code",
      "source": [
        "!dpkg --install cuda-repo-ubuntu1604-9-2-local_9.2.148-1_amd64"
      ],
      "execution_count": 0,
      "outputs": [
        {
          "output_type": "stream",
          "text": [
            "Selecting previously unselected package cuda-repo-ubuntu1604-9-2-local.\n",
            "(Reading database ... \r(Reading database ... 5%\r(Reading database ... 10%\r(Reading database ... 15%\r(Reading database ... 20%\r(Reading database ... 25%\r(Reading database ... 30%\r(Reading database ... 35%\r(Reading database ... 40%\r(Reading database ... 45%\r(Reading database ... 50%\r(Reading database ... 55%\r(Reading database ... 60%\r(Reading database ... 65%\r(Reading database ... 70%\r(Reading database ... 75%\r(Reading database ... 80%\r(Reading database ... 85%\r(Reading database ... 90%\r(Reading database ... 95%\r(Reading database ... 100%\r(Reading database ... 110845 files and directories currently installed.)\n",
            "Preparing to unpack cuda-repo-ubuntu1604-9-2-local_9.2.148-1_amd64 ...\n",
            "Unpacking cuda-repo-ubuntu1604-9-2-local (9.2.148-1) ...\n",
            "Setting up cuda-repo-ubuntu1604-9-2-local (9.2.148-1) ...\n"
          ],
          "name": "stdout"
        }
      ]
    },
    {
      "metadata": {
        "id": "5JbGFln9rv1Z",
        "colab_type": "code",
        "outputId": "a2385a02-d6b4-4541-f0bb-7cdc9eebd88d",
        "colab": {
          "base_uri": "https://localhost:8080/",
          "height": 34
        }
      },
      "cell_type": "code",
      "source": [
        "!apt-key add /var/cuda-repo-9-2-local/7fa2af80.pub"
      ],
      "execution_count": 0,
      "outputs": [
        {
          "output_type": "stream",
          "text": [
            "OK\n"
          ],
          "name": "stdout"
        }
      ]
    },
    {
      "metadata": {
        "id": "wZK6X2e8r6Cf",
        "colab_type": "code",
        "outputId": "60fc2414-4661-4607-da56-d8a56b227d8b",
        "colab": {
          "base_uri": "https://localhost:8080/",
          "height": 330
        }
      },
      "cell_type": "code",
      "source": [
        "!apt-get update"
      ],
      "execution_count": 0,
      "outputs": [
        {
          "output_type": "stream",
          "text": [
            "\r0% [Working]\r            \rGet:1 file:/var/cuda-repo-9-2-local  InRelease\n",
            "\r            \rIgn:1 file:/var/cuda-repo-9-2-local  InRelease\n",
            "\r0% [Connecting to ppa.launchpad.net]\r                                    \rGet:2 file:/var/cuda-repo-9-2-local  Release [574 B]\n",
            "\r0% [Connecting to developer.download.nvidia.com (192.229.232.112)] [Connecting \r                                                                               \rGet:2 file:/var/cuda-repo-9-2-local  Release [574 B]\n",
            "\r0% [2 Release 0 B/574 B 0%] [Connecting to archive.ubuntu.com (91.189.88.161)] \r0% [Connecting to archive.ubuntu.com (91.189.88.161)] [Connecting to security.u\r                                                                               \rGet:3 file:/var/cuda-repo-9-2-local  Release.gpg [819 B]\n",
            "\r0% [Connecting to archive.ubuntu.com (91.189.88.161)] [Connecting to security.u\r                                                                               \rGet:3 file:/var/cuda-repo-9-2-local  Release.gpg [819 B]\n",
            "\r0% [3 Release.gpg 0 B/819 B 0%] [Connecting to archive.ubuntu.com (91.189.88.16\r0% [Connecting to archive.ubuntu.com (91.189.88.161)] [Connecting to security.u\r0% [3 Release.gpg gpgv 574 B] [Connecting to archive.ubuntu.com (91.189.88.161)\r0% [Connecting to archive.ubuntu.com (91.189.88.161)] [Connecting to security.u\r                                                                               \rGet:4 file:/var/cuda-repo-9-2-local  Packages [18.7 kB]\n",
            "\r0% [Connecting to archive.ubuntu.com (91.189.88.161)] [Connecting to security.u\r0% [Connecting to archive.ubuntu.com (91.189.88.161)] [Connecting to security.u\r                                                                               \rIgn:5 https://developer.download.nvidia.com/compute/cuda/repos/ubuntu1710/x86_64  InRelease\n",
            "\r0% [Connecting to archive.ubuntu.com (91.189.88.161)] [Connecting to security.u\r0% [4 Packages store 0 B] [Connecting to archive.ubuntu.com (91.189.88.161)] [C\r0% [Connecting to archive.ubuntu.com (91.189.88.161)] [Connecting to security.u\r                                                                               \rIgn:6 https://developer.download.nvidia.com/compute/machine-learning/repos/ubuntu1604/x86_64  InRelease\n",
            "\r0% [Waiting for headers] [Waiting for headers] [Connecting to ppa.launchpad.net\r                                                                               \rHit:7 https://developer.download.nvidia.com/compute/cuda/repos/ubuntu1710/x86_64  Release\n",
            "\r0% [Waiting for headers] [Waiting for headers] [Connecting to ppa.launchpad.net\r0% [Release.gpg gpgv 564 B] [Waiting for headers] [Waiting for headers] [Waitin\r                                                                               \rHit:8 https://developer.download.nvidia.com/compute/machine-learning/repos/ubuntu1604/x86_64  Release\n",
            "\r0% [Release.gpg gpgv 564 B] [Waiting for headers] [Waiting for headers] [Connec\r                                                                               \rHit:9 http://archive.ubuntu.com/ubuntu bionic InRelease\n",
            "\r0% [Release.gpg gpgv 564 B] [Waiting for headers] [Waiting for headers] [Connec\r                                                                               \rGet:10 http://security.ubuntu.com/ubuntu bionic-security InRelease [83.2 kB]\n",
            "\r0% [Release.gpg gpgv 564 B] [Waiting for headers] [10 InRelease 2,586 B/83.2 kB\r0% [Waiting for headers] [10 InRelease 11.3 kB/83.2 kB 14%] [Waiting for header\r0% [Release.gpg gpgv 564 B] [Waiting for headers] [10 InRelease 11.3 kB/83.2 kB\r                                                                               \rGet:12 http://archive.ubuntu.com/ubuntu bionic-updates InRelease [88.7 kB]\n",
            "\r0% [Release.gpg gpgv 564 B] [12 InRelease 1,154 B/88.7 kB 1%] [10 InRelease 14.\r                                                                               \rHit:13 http://ppa.launchpad.net/graphics-drivers/ppa/ubuntu bionic InRelease\n",
            "Get:15 http://archive.ubuntu.com/ubuntu bionic-backports InRelease [74.6 kB]\n",
            "Fetched 247 kB in 2s (117 kB/s)\n",
            "Reading package lists... Done\n"
          ],
          "name": "stdout"
        }
      ]
    },
    {
      "metadata": {
        "id": "a2UqCp9rr0Pa",
        "colab_type": "code",
        "outputId": "04664eb8-252a-4be3-a5e4-cafc465a7d22",
        "colab": {
          "base_uri": "https://localhost:8080/",
          "height": 104
        }
      },
      "cell_type": "code",
      "source": [
        "!apt-get install cuda"
      ],
      "execution_count": 0,
      "outputs": [
        {
          "output_type": "stream",
          "text": [
            "\rReading package lists... 0%\r\rReading package lists... 0%\r\rReading package lists... 0%\r\rReading package lists... 8%\r\rReading package lists... 8%\r\rReading package lists... 8%\r\rReading package lists... 8%\r\rReading package lists... 80%\r\rReading package lists... 80%\r\rReading package lists... 81%\r\rReading package lists... 81%\r\rReading package lists... 82%\r\rReading package lists... 86%\r\rReading package lists... 86%\r\rReading package lists... 86%\r\rReading package lists... 86%\r\rReading package lists... 94%\r\rReading package lists... 94%\r\rReading package lists... 94%\r\rReading package lists... 94%\r\rReading package lists... 94%\r\rReading package lists... 94%\r\rReading package lists... 96%\r\rReading package lists... 96%\r\rReading package lists... 97%\r\rReading package lists... 97%\r\rReading package lists... 97%\r\rReading package lists... 97%\r\rReading package lists... 97%\r\rReading package lists... 97%\r\rReading package lists... 98%\r\rReading package lists... 98%\r\rReading package lists... 98%\r\rReading package lists... 98%\r\rReading package lists... 98%\r\rReading package lists... 98%\r\rReading package lists... Done\r\n",
            "\rBuilding dependency tree... 0%\r\rBuilding dependency tree... 0%\r\rBuilding dependency tree... 50%\r\rBuilding dependency tree... 50%\r\rBuilding dependency tree       \r\n",
            "\rReading state information... 0%\r\rReading state information... 0%\r\rReading state information... Done\r\n",
            "cuda is already the newest version (9.2.148-1).\n",
            "0 upgraded, 0 newly installed, 0 to remove and 8 not upgraded.\n"
          ],
          "name": "stdout"
        }
      ]
    },
    {
      "metadata": {
        "id": "7pKGtXHasGZ8",
        "colab_type": "code",
        "outputId": "12c1dfb2-18cc-4f28-8556-3e2b5f49d4c1",
        "colab": {
          "base_uri": "https://localhost:8080/",
          "height": 34
        }
      },
      "cell_type": "code",
      "source": [
        "!cat /usr/local/cuda/version.txt"
      ],
      "execution_count": 0,
      "outputs": [
        {
          "output_type": "stream",
          "text": [
            "CUDA Version 9.2.148\n"
          ],
          "name": "stdout"
        }
      ]
    },
    {
      "metadata": {
        "id": "qe0Ef1mlsMSq",
        "colab_type": "code",
        "outputId": "2c57071d-49ff-47ff-fdfb-1a93ce23f6a3",
        "colab": {
          "base_uri": "https://localhost:8080/",
          "height": 141
        }
      },
      "cell_type": "code",
      "source": [
        "!pip install https://download.pytorch.org/whl/cu91/torch-0.4.0-cp36-cp36m-linux_x86_64.whl"
      ],
      "execution_count": 0,
      "outputs": [
        {
          "output_type": "stream",
          "text": [
            "Collecting torch==0.4.0 from https://download.pytorch.org/whl/cu91/torch-0.4.0-cp36-cp36m-linux_x86_64.whl\n",
            "\u001b[?25l  Downloading https://download.pytorch.org/whl/cu91/torch-0.4.0-cp36-cp36m-linux_x86_64.whl (538.9MB)\n",
            "\u001b[K    100% |████████████████████████████████| 538.9MB 27kB/s \n",
            "tcmalloc: large alloc 1073750016 bytes == 0x5d238000 @  0x7fcb4cdf72a4 0x591a07 0x5b5d56 0x502e9a 0x506859 0x502209 0x502f3d 0x506859 0x504c28 0x502540 0x502f3d 0x506859 0x504c28 0x502540 0x502f3d 0x506859 0x504c28 0x502540 0x502f3d 0x507641 0x502209 0x502f3d 0x506859 0x504c28 0x502540 0x502f3d 0x507641 0x504c28 0x502540 0x502f3d 0x507641\n",
            "\u001b[?25hInstalling collected packages: torch\n",
            "Successfully installed torch-0.4.0\n"
          ],
          "name": "stdout"
        }
      ]
    },
    {
      "metadata": {
        "id": "U7oU-E1CsNX7",
        "colab_type": "code",
        "outputId": "5441a223-7cd5-483a-f3e7-be28e3845a7a",
        "colab": {
          "base_uri": "https://localhost:8080/",
          "height": 260
        }
      },
      "cell_type": "code",
      "source": [
        "!pip install torchvision"
      ],
      "execution_count": 0,
      "outputs": [
        {
          "output_type": "stream",
          "text": [
            "Collecting torchvision\n",
            "\u001b[?25l  Downloading https://files.pythonhosted.org/packages/ca/0d/f00b2885711e08bd71242ebe7b96561e6f6d01fdb4b9dcf4d37e2e13c5e1/torchvision-0.2.1-py2.py3-none-any.whl (54kB)\n",
            "\u001b[K    100% |████████████████████████████████| 61kB 2.3MB/s \n",
            "\u001b[?25hCollecting pillow>=4.1.1 (from torchvision)\n",
            "\u001b[?25l  Downloading https://files.pythonhosted.org/packages/92/e3/217dfd0834a51418c602c96b110059c477260c7fee898542b100913947cf/Pillow-5.4.0-cp36-cp36m-manylinux1_x86_64.whl (2.0MB)\n",
            "\u001b[K    100% |████████████████████████████████| 2.0MB 12.4MB/s \n",
            "\u001b[?25hRequirement already satisfied: torch in /usr/local/lib/python3.6/dist-packages (from torchvision) (0.4.0)\n",
            "Requirement already satisfied: numpy in /usr/local/lib/python3.6/dist-packages (from torchvision) (1.14.6)\n",
            "Requirement already satisfied: six in /usr/local/lib/python3.6/dist-packages (from torchvision) (1.11.0)\n",
            "Installing collected packages: pillow, torchvision\n",
            "  Found existing installation: Pillow 4.0.0\n",
            "    Uninstalling Pillow-4.0.0:\n",
            "      Successfully uninstalled Pillow-4.0.0\n",
            "Successfully installed pillow-5.4.0 torchvision-0.2.1\n"
          ],
          "name": "stdout"
        }
      ]
    },
    {
      "metadata": {
        "id": "H5IDwotBlnaj",
        "colab_type": "text"
      },
      "cell_type": "markdown",
      "source": [
        "### Importing packages"
      ]
    },
    {
      "metadata": {
        "id": "v1a-R-jYlp8R",
        "colab_type": "code",
        "outputId": "ffe9b2c2-1ec5-4526-ae78-423860e0f8bb",
        "colab": {
          "base_uri": "https://localhost:8080/",
          "height": 69
        }
      },
      "cell_type": "code",
      "source": [
        "from __future__ import print_function\n",
        "import torch\n",
        "import numpy as np\n",
        "\n",
        "print(\"torch version {}\".format(torch.__version__))\n",
        "print(\"cuda version {}\".format(torch.version.cuda))\n",
        "print(\"cudNN version {}\".format(torch.backends.cudnn.version()))"
      ],
      "execution_count": 0,
      "outputs": [
        {
          "output_type": "stream",
          "text": [
            "torch version 0.4.0\n",
            "cuda version 9.1.85\n",
            "cudNN version 7102\n"
          ],
          "name": "stdout"
        }
      ]
    },
    {
      "metadata": {
        "id": "aB5PhkjMoKkV",
        "colab_type": "text"
      },
      "cell_type": "markdown",
      "source": [
        "## Basics "
      ]
    },
    {
      "metadata": {
        "id": "sAU1g-rDvQQQ",
        "colab_type": "text"
      },
      "cell_type": "markdown",
      "source": [
        "### Zero matrix"
      ]
    },
    {
      "metadata": {
        "id": "aG1WdFWLoWQx",
        "colab_type": "code",
        "outputId": "065590fa-0bf7-4113-a6bd-553ea2af66ff",
        "colab": {
          "base_uri": "https://localhost:8080/",
          "height": 86
        }
      },
      "cell_type": "code",
      "source": [
        "x = torch.zeros(4, 3)\n",
        "x"
      ],
      "execution_count": 0,
      "outputs": [
        {
          "output_type": "execute_result",
          "data": {
            "text/plain": [
              "tensor([[ 0.,  0.,  0.],\n",
              "        [ 0.,  0.,  0.],\n",
              "        [ 0.,  0.,  0.],\n",
              "        [ 0.,  0.,  0.]])"
            ]
          },
          "metadata": {
            "tags": []
          },
          "execution_count": 45
        }
      ]
    },
    {
      "metadata": {
        "id": "uEKhR-1GvUxS",
        "colab_type": "text"
      },
      "cell_type": "markdown",
      "source": [
        "### Creating tensor based on existing tensor"
      ]
    },
    {
      "metadata": {
        "id": "3gNWSPOevT7E",
        "colab_type": "code",
        "outputId": "8bfb16d4-19d6-4778-be5f-8093e018abea",
        "colab": {
          "base_uri": "https://localhost:8080/",
          "height": 86
        }
      },
      "cell_type": "code",
      "source": [
        "x = x.new_ones(4,3)\n",
        "x"
      ],
      "execution_count": 0,
      "outputs": [
        {
          "output_type": "execute_result",
          "data": {
            "text/plain": [
              "tensor([[ 1.,  1.,  1.],\n",
              "        [ 1.,  1.,  1.],\n",
              "        [ 1.,  1.,  1.],\n",
              "        [ 1.,  1.,  1.]])"
            ]
          },
          "metadata": {
            "tags": []
          },
          "execution_count": 46
        }
      ]
    },
    {
      "metadata": {
        "id": "7TihqfnNwCif",
        "colab_type": "text"
      },
      "cell_type": "markdown",
      "source": [
        "### Reshaping of tensor"
      ]
    },
    {
      "metadata": {
        "id": "tNYC4aIQwFS_",
        "colab_type": "code",
        "outputId": "9166c8d3-54f9-40d9-dd05-d3824ba6c456",
        "colab": {
          "base_uri": "https://localhost:8080/",
          "height": 52
        }
      },
      "cell_type": "code",
      "source": [
        "y = x.view(-1, 6 )\n",
        "y"
      ],
      "execution_count": 0,
      "outputs": [
        {
          "output_type": "execute_result",
          "data": {
            "text/plain": [
              "tensor([[ 1.,  1.,  1.,  1.,  1.,  1.],\n",
              "        [ 1.,  1.,  1.,  1.,  1.,  1.]])"
            ]
          },
          "metadata": {
            "tags": []
          },
          "execution_count": 47
        }
      ]
    },
    {
      "metadata": {
        "id": "pIE8Ci1Lwocs",
        "colab_type": "text"
      },
      "cell_type": "markdown",
      "source": [
        "### Check if $cuda$ is available"
      ]
    },
    {
      "metadata": {
        "id": "z9c8GXMzwtdY",
        "colab_type": "code",
        "colab": {}
      },
      "cell_type": "code",
      "source": [
        "cud_avail = torch.cuda.is_available()"
      ],
      "execution_count": 0,
      "outputs": []
    },
    {
      "metadata": {
        "id": "lnBCnXdHxBRX",
        "colab_type": "text"
      },
      "cell_type": "markdown",
      "source": [
        "### Moving tensors onto any device\n",
        "Here we are considering $cuda \\ tensors$"
      ]
    },
    {
      "metadata": {
        "id": "kMDwI_OMwxnF",
        "colab_type": "code",
        "outputId": "918982a9-2af6-4784-bf9d-18c16998a7af",
        "colab": {
          "base_uri": "https://localhost:8080/",
          "height": 156
        }
      },
      "cell_type": "code",
      "source": [
        "if cud_avail :\n",
        "  device = torch.device('cuda')\n",
        "  y = torch.ones_like(x, device=device)\n",
        "  x = x.to(device)\n",
        "  z = x + y\n",
        "  print(z)\n",
        "  print(z.to(\"cpu\"))"
      ],
      "execution_count": 0,
      "outputs": [
        {
          "output_type": "stream",
          "text": [
            "tensor([[ 2.,  2.,  2.],\n",
            "        [ 2.,  2.,  2.],\n",
            "        [ 2.,  2.,  2.],\n",
            "        [ 2.,  2.,  2.]], device='cuda:0')\n",
            "tensor([[ 2.,  2.,  2.],\n",
            "        [ 2.,  2.,  2.],\n",
            "        [ 2.,  2.,  2.],\n",
            "        [ 2.,  2.,  2.]])\n"
          ],
          "name": "stdout"
        }
      ]
    },
    {
      "metadata": {
        "id": "Q3wstZWe7JFY",
        "colab_type": "text"
      },
      "cell_type": "markdown",
      "source": [
        "### Autograd : Automatic Differentiation"
      ]
    },
    {
      "metadata": {
        "id": "1d8HJ9Mj7Pig",
        "colab_type": "code",
        "outputId": "1498d1d6-c7c9-4312-fe74-1c9bb9ec2c5e",
        "colab": {
          "base_uri": "https://localhost:8080/",
          "height": 52
        }
      },
      "cell_type": "code",
      "source": [
        "# turn requires_grad = True to track computation with\n",
        "x = torch.ones(2,3, requires_grad = True)\n",
        "x"
      ],
      "execution_count": 0,
      "outputs": [
        {
          "output_type": "execute_result",
          "data": {
            "text/plain": [
              "tensor([[ 1.,  1.,  1.],\n",
              "        [ 1.,  1.,  1.]])"
            ]
          },
          "metadata": {
            "tags": []
          },
          "execution_count": 52
        }
      ]
    },
    {
      "metadata": {
        "id": "qrK2TYKG7yx-",
        "colab_type": "code",
        "colab": {}
      },
      "cell_type": "code",
      "source": [
        "y = x * 2\n",
        "y.grad_fn"
      ],
      "execution_count": 0,
      "outputs": []
    },
    {
      "metadata": {
        "id": "rpgiPdHr8HZg",
        "colab_type": "code",
        "outputId": "38418394-abc2-4e7c-90f2-58886ef9b25f",
        "colab": {
          "base_uri": "https://localhost:8080/",
          "height": 104
        }
      },
      "cell_type": "code",
      "source": [
        "z = y * y * 3\n",
        "out = z.mean()\n",
        "print(z)\n",
        "out"
      ],
      "execution_count": 0,
      "outputs": [
        {
          "output_type": "stream",
          "text": [
            "tensor([[ 12.,  12.,  12.],\n",
            "        [ 12.,  12.,  12.],\n",
            "        [ 12.,  12.,  12.],\n",
            "        [ 12.,  12.,  12.]], device='cuda:0')\n"
          ],
          "name": "stdout"
        },
        {
          "output_type": "execute_result",
          "data": {
            "text/plain": [
              "tensor(12., device='cuda:0')"
            ]
          },
          "metadata": {
            "tags": []
          },
          "execution_count": 53
        }
      ]
    },
    {
      "metadata": {
        "id": "tlZNi_tl8bvn",
        "colab_type": "text"
      },
      "cell_type": "markdown",
      "source": [
        "### Backprop"
      ]
    },
    {
      "metadata": {
        "id": "BpqxXxOl8bNX",
        "colab_type": "code",
        "outputId": "958009dc-992d-4c1e-8a09-cc8c5cc49dec",
        "colab": {
          "base_uri": "https://localhost:8080/",
          "height": 409
        }
      },
      "cell_type": "code",
      "source": [
        "out.backward()"
      ],
      "execution_count": 0,
      "outputs": [
        {
          "output_type": "error",
          "ename": "RuntimeError",
          "evalue": "ignored",
          "traceback": [
            "\u001b[0;31m---------------------------------------------------------------------------\u001b[0m",
            "\u001b[0;31mRuntimeError\u001b[0m                              Traceback (most recent call last)",
            "\u001b[0;32m<ipython-input-54-617965056ac0>\u001b[0m in \u001b[0;36m<module>\u001b[0;34m()\u001b[0m\n\u001b[0;32m----> 1\u001b[0;31m \u001b[0mout\u001b[0m\u001b[0;34m.\u001b[0m\u001b[0mbackward\u001b[0m\u001b[0;34m(\u001b[0m\u001b[0;34m)\u001b[0m\u001b[0;34m\u001b[0m\u001b[0;34m\u001b[0m\u001b[0m\n\u001b[0m",
            "\u001b[0;32m/usr/local/lib/python3.6/dist-packages/torch/tensor.py\u001b[0m in \u001b[0;36mbackward\u001b[0;34m(self, gradient, retain_graph, create_graph)\u001b[0m\n\u001b[1;32m     91\u001b[0m                 \u001b[0mproducts\u001b[0m\u001b[0;34m.\u001b[0m \u001b[0mDefaults\u001b[0m \u001b[0mto\u001b[0m\u001b[0;31m \u001b[0m\u001b[0;31m`\u001b[0m\u001b[0;31m`\u001b[0m\u001b[0;32mFalse\u001b[0m\u001b[0;31m`\u001b[0m\u001b[0;31m`\u001b[0m\u001b[0;34m.\u001b[0m\u001b[0;34m\u001b[0m\u001b[0;34m\u001b[0m\u001b[0m\n\u001b[1;32m     92\u001b[0m         \"\"\"\n\u001b[0;32m---> 93\u001b[0;31m         \u001b[0mtorch\u001b[0m\u001b[0;34m.\u001b[0m\u001b[0mautograd\u001b[0m\u001b[0;34m.\u001b[0m\u001b[0mbackward\u001b[0m\u001b[0;34m(\u001b[0m\u001b[0mself\u001b[0m\u001b[0;34m,\u001b[0m \u001b[0mgradient\u001b[0m\u001b[0;34m,\u001b[0m \u001b[0mretain_graph\u001b[0m\u001b[0;34m,\u001b[0m \u001b[0mcreate_graph\u001b[0m\u001b[0;34m)\u001b[0m\u001b[0;34m\u001b[0m\u001b[0;34m\u001b[0m\u001b[0m\n\u001b[0m\u001b[1;32m     94\u001b[0m \u001b[0;34m\u001b[0m\u001b[0m\n\u001b[1;32m     95\u001b[0m     \u001b[0;32mdef\u001b[0m \u001b[0mregister_hook\u001b[0m\u001b[0;34m(\u001b[0m\u001b[0mself\u001b[0m\u001b[0;34m,\u001b[0m \u001b[0mhook\u001b[0m\u001b[0;34m)\u001b[0m\u001b[0;34m:\u001b[0m\u001b[0;34m\u001b[0m\u001b[0;34m\u001b[0m\u001b[0m\n",
            "\u001b[0;32m/usr/local/lib/python3.6/dist-packages/torch/autograd/__init__.py\u001b[0m in \u001b[0;36mbackward\u001b[0;34m(tensors, grad_tensors, retain_graph, create_graph, grad_variables)\u001b[0m\n\u001b[1;32m     87\u001b[0m     Variable._execution_engine.run_backward(\n\u001b[1;32m     88\u001b[0m         \u001b[0mtensors\u001b[0m\u001b[0;34m,\u001b[0m \u001b[0mgrad_tensors\u001b[0m\u001b[0;34m,\u001b[0m \u001b[0mretain_graph\u001b[0m\u001b[0;34m,\u001b[0m \u001b[0mcreate_graph\u001b[0m\u001b[0;34m,\u001b[0m\u001b[0;34m\u001b[0m\u001b[0;34m\u001b[0m\u001b[0m\n\u001b[0;32m---> 89\u001b[0;31m         allow_unreachable=True)  # allow_unreachable flag\n\u001b[0m\u001b[1;32m     90\u001b[0m \u001b[0;34m\u001b[0m\u001b[0m\n\u001b[1;32m     91\u001b[0m \u001b[0;34m\u001b[0m\u001b[0m\n",
            "\u001b[0;31mRuntimeError\u001b[0m: element 0 of tensors does not require grad and does not have a grad_fn"
          ]
        }
      ]
    },
    {
      "metadata": {
        "id": "ZXnVfMAO8wTN",
        "colab_type": "code",
        "colab": {
          "base_uri": "https://localhost:8080/",
          "height": 34
        },
        "outputId": "dda47260-0151-46ba-e5f9-4fc05f5eea52"
      },
      "cell_type": "code",
      "source": [
        "# l = x\n",
        "# while l.data.norm() < 5:\n",
        "#   l = l*2\n",
        " \n",
        "# l = l.view(-1)\n",
        "# l.size()"
      ],
      "execution_count": 56,
      "outputs": [
        {
          "output_type": "execute_result",
          "data": {
            "text/plain": [
              "torch.Size([6])"
            ]
          },
          "metadata": {
            "tags": []
          },
          "execution_count": 56
        }
      ]
    },
    {
      "metadata": {
        "id": "yGTWadjv-p7L",
        "colab_type": "code",
        "colab": {}
      },
      "cell_type": "code",
      "source": [
        "# y = [i*0.1 for i in range(l.size()[0])]\n",
        "# y = np.array(y)\n",
        "# y = torch.from_numpy(y)\n",
        "# y = y.float()\n",
        "# l.backward(y)"
      ],
      "execution_count": 0,
      "outputs": []
    },
    {
      "metadata": {
        "id": "UYYUmyoRKEc4",
        "colab_type": "code",
        "colab": {}
      },
      "cell_type": "code",
      "source": [
        "# x.grad"
      ],
      "execution_count": 0,
      "outputs": []
    },
    {
      "metadata": {
        "id": "a_4KXjm6sNo1",
        "colab_type": "text"
      },
      "cell_type": "markdown",
      "source": [
        "### Neural Networks "
      ]
    },
    {
      "metadata": {
        "id": "FXU9vg6ssQHl",
        "colab_type": "code",
        "colab": {}
      },
      "cell_type": "code",
      "source": [
        "import torch.nn as nn\n",
        "import torch.nn.functional as F"
      ],
      "execution_count": 0,
      "outputs": []
    },
    {
      "metadata": {
        "id": "V2KUA7-gxAwc",
        "colab_type": "code",
        "colab": {
          "base_uri": "https://localhost:8080/",
          "height": 139
        },
        "outputId": "461dd9ad-a4ab-4140-f422-0be5d5f9ca9c"
      },
      "cell_type": "code",
      "source": [
        "class NeuNet(nn.Module):\n",
        "  def __init__(self):\n",
        "    super(NeuNet, self).__init__()\n",
        "    \n",
        "    #num. of input channel = 1, num. of output channel = 6, filter size = 5*5\n",
        "    self.conv1 = nn.Conv2d(1, 6, 5)\n",
        "    self.conv2 = nn.Conv2d(6, 16, 5)\n",
        "    \n",
        "    # y = Wx + b\n",
        "    self.fc1 = nn.Linear(400, 120)\n",
        "    self.fc2 = nn.Linear(120, 84)\n",
        "    self.fc3 = nn.Linear(84, 10)\n",
        "    \n",
        "  def forward(self, x):\n",
        "    # Max Pooling over a (2,2) window\n",
        "    x = F.max_pool2d(F.relu(self.conv1(x)), (2,2))\n",
        "    x = F.max_pool2d(F.relu(self.conv2(x)), 2)\n",
        "    x = x.view(-1, self.num_flat_features(x))\n",
        "    x = F.relu(self.fc1(x))\n",
        "    x = F.relu(self.fc2(x))\n",
        "    x = self.fc3(x)\n",
        "    return x\n",
        "  \n",
        "  def num_flat_features(self, x):\n",
        "    size = x.size()[1:] #all dimensions except batch dimension\n",
        "    num_feature = 1\n",
        "    for s in size:\n",
        "      num_feature *= s\n",
        "    return num_feature\n",
        "\n",
        "net = NeuNet()\n",
        "net"
      ],
      "execution_count": 58,
      "outputs": [
        {
          "output_type": "execute_result",
          "data": {
            "text/plain": [
              "NeuNet(\n",
              "  (conv1): Conv2d(1, 6, kernel_size=(5, 5), stride=(1, 1))\n",
              "  (conv2): Conv2d(6, 16, kernel_size=(5, 5), stride=(1, 1))\n",
              "  (fc1): Linear(in_features=400, out_features=120, bias=True)\n",
              "  (fc2): Linear(in_features=120, out_features=84, bias=True)\n",
              "  (fc3): Linear(in_features=84, out_features=10, bias=True)\n",
              ")"
            ]
          },
          "metadata": {
            "tags": []
          },
          "execution_count": 58
        }
      ]
    },
    {
      "metadata": {
        "id": "rJUT2cQt2ZOD",
        "colab_type": "text"
      },
      "cell_type": "markdown",
      "source": [
        "### Learnable Parametes"
      ]
    },
    {
      "metadata": {
        "id": "6XvaFUUz2Y1Z",
        "colab_type": "code",
        "colab": {
          "base_uri": "https://localhost:8080/",
          "height": 225
        },
        "outputId": "3c134c9c-3c06-474a-d757-d591a927711a"
      },
      "cell_type": "code",
      "source": [
        "params = list(net.parameters())\n",
        "print(len(params))\n",
        "for param in params:\n",
        "  print(param.size())\n",
        "\n",
        "print(net.parameters())"
      ],
      "execution_count": 59,
      "outputs": [
        {
          "output_type": "stream",
          "text": [
            "10\n",
            "torch.Size([6, 1, 5, 5])\n",
            "torch.Size([6])\n",
            "torch.Size([16, 6, 5, 5])\n",
            "torch.Size([16])\n",
            "torch.Size([120, 400])\n",
            "torch.Size([120])\n",
            "torch.Size([84, 120])\n",
            "torch.Size([84])\n",
            "torch.Size([10, 84])\n",
            "torch.Size([10])\n",
            "<generator object Module.parameters at 0x7f456b9e9af0>\n"
          ],
          "name": "stdout"
        }
      ]
    },
    {
      "metadata": {
        "id": "bywY1MFtDa-y",
        "colab_type": "code",
        "colab": {
          "base_uri": "https://localhost:8080/",
          "height": 34
        },
        "outputId": "94b3768e-e62e-4dd3-cb59-b8d10a0683c2"
      },
      "cell_type": "code",
      "source": [
        "inpt = torch.randn(1,1,32,32)\n",
        "out = net(inpt)\n",
        "out.shape"
      ],
      "execution_count": 60,
      "outputs": [
        {
          "output_type": "execute_result",
          "data": {
            "text/plain": [
              "torch.Size([1, 10])"
            ]
          },
          "metadata": {
            "tags": []
          },
          "execution_count": 60
        }
      ]
    },
    {
      "metadata": {
        "id": "4poArSWhD0uQ",
        "colab_type": "code",
        "colab": {}
      },
      "cell_type": "code",
      "source": [
        "net.zero_grad()\n",
        "# out.backward(torch.randn(1,10), retain_graph = True)"
      ],
      "execution_count": 0,
      "outputs": []
    },
    {
      "metadata": {
        "id": "RFyGtTctFSRe",
        "colab_type": "text"
      },
      "cell_type": "markdown",
      "source": [
        "### Loss Function"
      ]
    },
    {
      "metadata": {
        "id": "rvM1lZRgFUyH",
        "colab_type": "code",
        "colab": {
          "base_uri": "https://localhost:8080/",
          "height": 86
        },
        "outputId": "f4e86b62-a8f2-4956-c566-e0767f691415"
      },
      "cell_type": "code",
      "source": [
        "import math\n",
        "criterion = nn.MSELoss()\n",
        "target = torch.randn(10)\n",
        "print(target)\n",
        "print(out)\n",
        "target = target.view(1,-1)\n",
        "\n",
        "loss = criterion(out, target)\n"
      ],
      "execution_count": 62,
      "outputs": [
        {
          "output_type": "stream",
          "text": [
            "tensor([ 0.1141, -0.2980, -0.7303, -0.3544, -1.7434, -1.1736, -0.7671,\n",
            "         0.3979, -0.3042,  0.3103])\n",
            "tensor([[ 0.1187, -0.1040,  0.0003,  0.0327, -0.1423,  0.0425, -0.0928,\n",
            "         -0.1335, -0.1657, -0.1438]])\n"
          ],
          "name": "stdout"
        }
      ]
    },
    {
      "metadata": {
        "id": "zcPrvMsrG2JU",
        "colab_type": "code",
        "colab": {
          "base_uri": "https://localhost:8080/",
          "height": 34
        },
        "outputId": "0c7bb98a-4668-425f-f48b-8e45feed9fef"
      },
      "cell_type": "code",
      "source": [
        "loss.grad_fn.next_functions[0][0].next_functions[0][0]"
      ],
      "execution_count": 63,
      "outputs": [
        {
          "output_type": "execute_result",
          "data": {
            "text/plain": [
              "<ExpandBackward at 0x7f456b3887b8>"
            ]
          },
          "metadata": {
            "tags": []
          },
          "execution_count": 63
        }
      ]
    },
    {
      "metadata": {
        "id": "8WwhWQoobmMq",
        "colab_type": "text"
      },
      "cell_type": "markdown",
      "source": [
        "### Backprop"
      ]
    },
    {
      "metadata": {
        "id": "NuuggOQDa2A3",
        "colab_type": "code",
        "colab": {
          "base_uri": "https://localhost:8080/",
          "height": 86
        },
        "outputId": "8e1633cd-a671-4191-d584-84d29552cdd8"
      },
      "cell_type": "code",
      "source": [
        "net.zero_grad() # zeros the gradient buffer of all parameters\n",
        "\n",
        "print('conv1.bias.grad before backwad \\n{}'.format(net.conv1.bias.grad))\n",
        "\n",
        "# loss.backward(retain_graph = True)\n",
        "\n",
        "print('conv1.bias.grad after backward \\n{}'.format(net.conv1.bias.grad))"
      ],
      "execution_count": 64,
      "outputs": [
        {
          "output_type": "stream",
          "text": [
            "conv1.bias.grad before backwad \n",
            "None\n",
            "conv1.bias.grad after backward \n",
            "None\n"
          ],
          "name": "stdout"
        }
      ]
    },
    {
      "metadata": {
        "id": "dU7i8cK_lJMv",
        "colab_type": "text"
      },
      "cell_type": "markdown",
      "source": [
        "### Update the weights"
      ]
    },
    {
      "metadata": {
        "id": "hE65mI_MlCv1",
        "colab_type": "code",
        "colab": {}
      },
      "cell_type": "code",
      "source": [
        "# learning_rate = 0.01\n",
        "# for f in net.parameters():\n",
        "#   f.data.sub_(f.grad.data*learning_rate)"
      ],
      "execution_count": 0,
      "outputs": []
    },
    {
      "metadata": {
        "id": "xsRRgcWhuibZ",
        "colab_type": "text"
      },
      "cell_type": "markdown",
      "source": [
        "### Optimizers"
      ]
    },
    {
      "metadata": {
        "id": "gJJgmy5QukdN",
        "colab_type": "code",
        "colab": {}
      },
      "cell_type": "code",
      "source": [
        "import torch.optim as optim\n",
        "\n",
        "optimir = optim.SGD(net.parameters(), lr=0.01)\n",
        "\n",
        "optimir.zero_grad()\n",
        "output = net(inpt)\n",
        "loss = criterion(output, target)\n",
        "# loss.backward()\n",
        "optimir.step()"
      ],
      "execution_count": 0,
      "outputs": []
    },
    {
      "metadata": {
        "id": "h9pePIrkvLFs",
        "colab_type": "text"
      },
      "cell_type": "markdown",
      "source": [
        "## Classifier\n",
        "Trained on CIFAR10"
      ]
    },
    {
      "metadata": {
        "id": "N6986rVHvP45",
        "colab_type": "code",
        "colab": {}
      },
      "cell_type": "code",
      "source": [
        "import torchvision\n",
        "import torchvision.transforms as transforms"
      ],
      "execution_count": 0,
      "outputs": []
    },
    {
      "metadata": {
        "id": "laYvuL3Tm6W2",
        "colab_type": "text"
      },
      "cell_type": "markdown",
      "source": [
        "### Data Preprocessing\n"
      ]
    },
    {
      "metadata": {
        "id": "TKtOb1hEYfCC",
        "colab_type": "code",
        "outputId": "e515ab0a-7069-4ad6-8db4-32ae9e17727d",
        "colab": {
          "base_uri": "https://localhost:8080/",
          "height": 52
        }
      },
      "cell_type": "code",
      "source": [
        "transform = transforms.Compose(\n",
        "    [transforms.ToTensor(),\n",
        "     transforms.Normalize((0.5, 0.5, 0.5), (0.5, 0.5, 0.5))])\n",
        "\n",
        "trainset = torchvision.datasets.CIFAR10(root='./data', train=True,\n",
        "                                        download=True, transform=transform)\n",
        "trainloader = torch.utils.data.DataLoader(trainset, batch_size=4,\n",
        "                                          shuffle=True, num_workers=2)\n",
        "\n",
        "testset = torchvision.datasets.CIFAR10(root='./data', train=False,\n",
        "                                       download=True, transform=transform)\n",
        "testloader = torch.utils.data.DataLoader(testset, batch_size=4,\n",
        "                                         shuffle=False, num_workers=2)\n",
        "\n",
        "classes = ('plane', 'car', 'bird', 'cat',\n",
        "           'deer', 'dog', 'frog', 'horse', 'ship', 'truck')"
      ],
      "execution_count": 0,
      "outputs": [
        {
          "output_type": "stream",
          "text": [
            "Downloading https://www.cs.toronto.edu/~kriz/cifar-10-python.tar.gz to ./data/cifar-10-python.tar.gz\n",
            "Files already downloaded and verified\n"
          ],
          "name": "stdout"
        }
      ]
    },
    {
      "metadata": {
        "id": "tFKhej8ZAN7J",
        "colab_type": "text"
      },
      "cell_type": "markdown",
      "source": [
        "### Draw Images"
      ]
    },
    {
      "metadata": {
        "id": "qc7iLWwoAQXZ",
        "colab_type": "code",
        "outputId": "6a898ef7-a86e-4d46-db98-84c30d984c44",
        "colab": {
          "base_uri": "https://localhost:8080/",
          "height": 184
        }
      },
      "cell_type": "code",
      "source": [
        "import matplotlib.pyplot as plt\n",
        "import numpy as np\n",
        "\n",
        "# functions to show an image\n",
        "\n",
        "\n",
        "def imshow(img):\n",
        "    img = img / 2 + 0.5     # unnormalize\n",
        "    npimg = img.numpy()\n",
        "    plt.imshow(np.transpose(npimg, (1, 2, 0)))\n",
        "    plt.show()\n",
        "    \n",
        "dataiter = iter(trainloader)\n",
        "images, labels = dataiter.next()\n",
        "\n",
        "imshow(torchvision.utils.make_grid(images))\n",
        "print(' '.join('%5s' % classes[labels[j]] for j in range(4)))"
      ],
      "execution_count": 0,
      "outputs": [
        {
          "output_type": "display_data",
          "data": {
            "image/png": "[encoded data removed]",
            "text/plain": [
              "<matplotlib.figure.Figure at 0x7f456ba09b00>"
            ]
          },
          "metadata": {
            "tags": []
          }
        },
        {
          "output_type": "stream",
          "text": [
            "plane  frog   car truck\n"
          ],
          "name": "stdout"
        }
      ]
    },
    {
      "metadata": {
        "id": "EPCIQBt1zYoO",
        "colab_type": "text"
      },
      "cell_type": "markdown",
      "source": [
        "### Convolutional Neural Network"
      ]
    },
    {
      "metadata": {
        "id": "WNNXsRzEzdKr",
        "colab_type": "code",
        "outputId": "cadf45a4-0197-463d-b78a-35d225172227",
        "colab": {
          "base_uri": "https://localhost:8080/",
          "height": 156
        }
      },
      "cell_type": "code",
      "source": [
        "class CNNet(nn.Module):\n",
        "  def __init__(self):\n",
        "    super(CNNet, self).__init__()\n",
        "    \n",
        "    #num. of input channel = 3, num. of output channel = 6, filter size = 5*5\n",
        "    self.conv1 = nn.Conv2d(3, 6, 5)\n",
        "    self.pool = nn.MaxPool2d(2,2)\n",
        "    self.conv2 = nn.Conv2d(6, 16, 5)\n",
        "    \n",
        "    # y = Wx + b\n",
        "    self.fc1 = nn.Linear(400, 120)\n",
        "    self.fc2 = nn.Linear(120, 84)\n",
        "    self.fc3 = nn.Linear(84, 10)\n",
        "    \n",
        "  def forward(self, x):\n",
        "    # Max Pooling over a (2,2) window\n",
        "    x = self.pool(F.relu(self.conv1(x)))\n",
        "    x = self.pool(F.relu(self.conv2(x)))\n",
        "    x = x.view(-1, 400)#self.num_flat_features_(x))\n",
        "    x = F.relu(self.fc1(x))\n",
        "    x = F.relu(self.fc2(x))\n",
        "    x = self.fc3(x)\n",
        "    return x\n",
        "  \n",
        "  def num_flat_features_(self, x):\n",
        "    size = x.size()[1:] #all dimensions except batch dimension\n",
        "    num_feature = 1\n",
        "    for s in size:\n",
        "      num_feature *= s\n",
        "    return num_feature\n",
        "\n",
        "Cnet = CNNet()\n",
        "Cnet"
      ],
      "execution_count": 0,
      "outputs": [
        {
          "output_type": "execute_result",
          "data": {
            "text/plain": [
              "CNNet(\n",
              "  (conv1): Conv2d(3, 6, kernel_size=(5, 5), stride=(1, 1))\n",
              "  (pool): MaxPool2d(kernel_size=2, stride=2, padding=0, dilation=1, ceil_mode=False)\n",
              "  (conv2): Conv2d(6, 16, kernel_size=(5, 5), stride=(1, 1))\n",
              "  (fc1): Linear(in_features=400, out_features=120, bias=True)\n",
              "  (fc2): Linear(in_features=120, out_features=84, bias=True)\n",
              "  (fc3): Linear(in_features=84, out_features=10, bias=True)\n",
              ")"
            ]
          },
          "metadata": {
            "tags": []
          },
          "execution_count": 35
        }
      ]
    },
    {
      "metadata": {
        "id": "gGCu-BCuxvuR",
        "colab_type": "text"
      },
      "cell_type": "markdown",
      "source": [
        "### Loss function for classifier"
      ]
    },
    {
      "metadata": {
        "id": "LSl0-zapw1es",
        "colab_type": "code",
        "colab": {}
      },
      "cell_type": "code",
      "source": [
        "import torch.optim as optim\n",
        "\n",
        "criteron = nn.CrossEntropyLoss()\n",
        "optimizer = optim.SGD(Cnet.parameters(), lr=0.001, momentum=0.9)"
      ],
      "execution_count": 0,
      "outputs": []
    },
    {
      "metadata": {
        "id": "V5FnuI06yBnJ",
        "colab_type": "text"
      },
      "cell_type": "markdown",
      "source": [
        "### Train the network"
      ]
    },
    {
      "metadata": {
        "id": "MG9CpoYiyAvS",
        "colab_type": "code",
        "outputId": "31376b5d-4912-435a-c53e-32dfd00853a0",
        "colab": {
          "base_uri": "https://localhost:8080/",
          "height": 555
        }
      },
      "cell_type": "code",
      "source": [
        "for epoch in range(5):\n",
        "  \n",
        "  running_loss = 0\n",
        "#   inputs, labels = trainloader[0]\n",
        "#   print(inputs)\n",
        "  \n",
        "  for i, data in enumerate(trainloader, 0):\n",
        "    inputs, labels = data\n",
        "    \n",
        "    optimizer.zero_grad()\n",
        "    \n",
        "    output = Cnet(inputs)\n",
        "    loss = criteron(output, labels)\n",
        "    loss.backward()\n",
        "    optimizer.step()\n",
        "    \n",
        "    running_loss += loss.item()\n",
        "    if i % 2000 == 1999:\n",
        "      print('{} ,{} loss: {}'.format(epoch + 1, i + 1, (running_loss/2000)))\n",
        "      running_loss = 0.0\n",
        "     \n",
        "print('Training finished')\n",
        "# type(trainloader)\n",
        "# dataiter = iter(trainloader)\n",
        "# images, labels = dataiter.next()\n",
        "# images"
      ],
      "execution_count": 0,
      "outputs": [
        {
          "output_type": "stream",
          "text": [
            "1 ,2000 loss: 2.161281720995903\n",
            "1 ,4000 loss: 1.8235802721083165\n",
            "1 ,6000 loss: 1.6645877816081047\n",
            "1 ,8000 loss: 1.571964512139559\n",
            "1 ,10000 loss: 1.4952544699162245\n",
            "1 ,12000 loss: 1.4548514646962285\n",
            "2 ,2000 loss: 1.365952362857759\n",
            "2 ,4000 loss: 1.3598143969997765\n",
            "2 ,6000 loss: 1.337087389241904\n",
            "2 ,8000 loss: 1.2968957989029586\n",
            "2 ,10000 loss: 1.296057362217456\n",
            "2 ,12000 loss: 1.253874224888161\n",
            "3 ,2000 loss: 1.2360389004200696\n",
            "3 ,4000 loss: 1.1721997843235732\n",
            "3 ,6000 loss: 1.1639302002042533\n",
            "3 ,8000 loss: 1.1742408308256418\n",
            "3 ,10000 loss: 1.1583564420510084\n",
            "3 ,12000 loss: 1.1533841426819562\n",
            "4 ,2000 loss: 1.0586658039893955\n",
            "4 ,4000 loss: 1.0816849069204182\n",
            "4 ,6000 loss: 1.1029280933272094\n",
            "4 ,8000 loss: 1.1044383986983448\n",
            "4 ,10000 loss: 1.062440302701667\n",
            "4 ,12000 loss: 1.0891358838183804\n",
            "5 ,2000 loss: 0.9944255008688196\n",
            "5 ,4000 loss: 1.0062822228111328\n",
            "5 ,6000 loss: 1.0122561951149256\n",
            "5 ,8000 loss: 1.0125840974226594\n",
            "5 ,10000 loss: 1.028723164390307\n",
            "5 ,12000 loss: 1.0347728527756408\n",
            "Training finished\n"
          ],
          "name": "stdout"
        }
      ]
    },
    {
      "metadata": {
        "id": "VtI_ouhx5tRg",
        "colab_type": "text"
      },
      "cell_type": "markdown",
      "source": [
        "### Test"
      ]
    },
    {
      "metadata": {
        "id": "uWedrk7Y5srg",
        "colab_type": "code",
        "colab": {}
      },
      "cell_type": "code",
      "source": [
        "dataiter = iter(testloader)\n",
        "images, labels = dataiter.next()\n",
        "outputs = Cnet(images)\n"
      ],
      "execution_count": 0,
      "outputs": []
    },
    {
      "metadata": {
        "id": "ul5fI4SuDZo4",
        "colab_type": "code",
        "outputId": "98e28b98-0539-4b42-bc21-0dfe94b0a414",
        "colab": {
          "base_uri": "https://localhost:8080/",
          "height": 104
        }
      },
      "cell_type": "code",
      "source": [
        "print(\"Target is\")\n",
        "for i in labels:\n",
        "  print(classes[i])"
      ],
      "execution_count": 0,
      "outputs": [
        {
          "output_type": "stream",
          "text": [
            "Target is\n",
            "cat\n",
            "ship\n",
            "ship\n",
            "plane\n"
          ],
          "name": "stdout"
        }
      ]
    },
    {
      "metadata": {
        "id": "2xpLyOYQD2Ju",
        "colab_type": "code",
        "outputId": "16daee00-3747-4e54-9844-13f90eb8e86e",
        "colab": {
          "base_uri": "https://localhost:8080/",
          "height": 260
        }
      },
      "cell_type": "code",
      "source": [
        "print(\"Output is\")\n",
        "print(outputs)\n",
        "_, predicted = torch.max(outputs, 1)\n",
        "\n",
        "print(predicted)\n",
        "for i in predicted:\n",
        "  print(classes[i])"
      ],
      "execution_count": 0,
      "outputs": [
        {
          "output_type": "stream",
          "text": [
            "Output is\n",
            "tensor([[-2.0184, -2.2613, -0.3859,  5.4963, -2.3939,  4.3051,  0.0779,\n",
            "         -0.7782, -0.3558, -1.6690],\n",
            "        [ 3.7112,  4.3056, -1.0419, -2.2965, -3.8230, -3.8022, -4.0386,\n",
            "         -4.4063,  6.5356,  4.4780],\n",
            "        [ 2.2332,  2.8438,  0.0359, -1.3552, -3.0517, -1.9502, -2.4921,\n",
            "         -1.7389,  2.1501,  5.0833],\n",
            "        [ 5.0674, -1.2001,  2.0320, -1.7515,  0.4641, -3.5577, -3.2423,\n",
            "         -2.8130,  4.2782, -0.8455]])\n",
            "tensor([ 3,  8,  9,  0])\n",
            "cat\n",
            "ship\n",
            "truck\n",
            "plane\n"
          ],
          "name": "stdout"
        }
      ]
    },
    {
      "metadata": {
        "id": "bHtzEh_qQ81r",
        "colab_type": "code",
        "outputId": "c37e28ef-3c96-4894-c80f-eec58c47c560",
        "colab": {
          "base_uri": "https://localhost:8080/",
          "height": 34
        }
      },
      "cell_type": "code",
      "source": [
        "correct = 0\n",
        "total = 0\n",
        "with torch.no_grad():\n",
        "    for data in testloader:\n",
        "        images, labels = data\n",
        "        outputs = Cnet(images)\n",
        "        _, predicted = torch.max(outputs.data, 1)\n",
        "        total += labels.size(0)\n",
        "        correct += (predicted == labels).sum().item()\n",
        "\n",
        "print('Accuracy of the network on the 10000 test images: %d %%' % (\n",
        "    100 * correct / total))"
      ],
      "execution_count": 0,
      "outputs": [
        {
          "output_type": "stream",
          "text": [
            "Accuracy of the network on the 10000 test images: 62 %\n"
          ],
          "name": "stdout"
        }
      ]
    }
  ]
}